{
 "cells": [
  {
   "cell_type": "code",
   "execution_count": 1,
   "metadata": {},
   "outputs": [
    {
     "name": "stderr",
     "output_type": "stream",
     "text": [
      "/home/ughni/.Envs/venv_mujoco/lib/python3.6/site-packages/tensorflow/python/framework/dtypes.py:516: FutureWarning: Passing (type, 1) or '1type' as a synonym of type is deprecated; in a future version of numpy, it will be understood as (type, (1,)) / '(1,)type'.\n",
      "  _np_qint8 = np.dtype([(\"qint8\", np.int8, 1)])\n",
      "/home/ughni/.Envs/venv_mujoco/lib/python3.6/site-packages/tensorflow/python/framework/dtypes.py:517: FutureWarning: Passing (type, 1) or '1type' as a synonym of type is deprecated; in a future version of numpy, it will be understood as (type, (1,)) / '(1,)type'.\n",
      "  _np_quint8 = np.dtype([(\"quint8\", np.uint8, 1)])\n",
      "/home/ughni/.Envs/venv_mujoco/lib/python3.6/site-packages/tensorflow/python/framework/dtypes.py:518: FutureWarning: Passing (type, 1) or '1type' as a synonym of type is deprecated; in a future version of numpy, it will be understood as (type, (1,)) / '(1,)type'.\n",
      "  _np_qint16 = np.dtype([(\"qint16\", np.int16, 1)])\n",
      "/home/ughni/.Envs/venv_mujoco/lib/python3.6/site-packages/tensorflow/python/framework/dtypes.py:519: FutureWarning: Passing (type, 1) or '1type' as a synonym of type is deprecated; in a future version of numpy, it will be understood as (type, (1,)) / '(1,)type'.\n",
      "  _np_quint16 = np.dtype([(\"quint16\", np.uint16, 1)])\n",
      "/home/ughni/.Envs/venv_mujoco/lib/python3.6/site-packages/tensorflow/python/framework/dtypes.py:520: FutureWarning: Passing (type, 1) or '1type' as a synonym of type is deprecated; in a future version of numpy, it will be understood as (type, (1,)) / '(1,)type'.\n",
      "  _np_qint32 = np.dtype([(\"qint32\", np.int32, 1)])\n",
      "/home/ughni/.Envs/venv_mujoco/lib/python3.6/site-packages/tensorflow/python/framework/dtypes.py:525: FutureWarning: Passing (type, 1) or '1type' as a synonym of type is deprecated; in a future version of numpy, it will be understood as (type, (1,)) / '(1,)type'.\n",
      "  np_resource = np.dtype([(\"resource\", np.ubyte, 1)])\n",
      "/home/ughni/.Envs/venv_mujoco/lib/python3.6/site-packages/tensorboard/compat/tensorflow_stub/dtypes.py:541: FutureWarning: Passing (type, 1) or '1type' as a synonym of type is deprecated; in a future version of numpy, it will be understood as (type, (1,)) / '(1,)type'.\n",
      "  _np_qint8 = np.dtype([(\"qint8\", np.int8, 1)])\n",
      "/home/ughni/.Envs/venv_mujoco/lib/python3.6/site-packages/tensorboard/compat/tensorflow_stub/dtypes.py:542: FutureWarning: Passing (type, 1) or '1type' as a synonym of type is deprecated; in a future version of numpy, it will be understood as (type, (1,)) / '(1,)type'.\n",
      "  _np_quint8 = np.dtype([(\"quint8\", np.uint8, 1)])\n",
      "/home/ughni/.Envs/venv_mujoco/lib/python3.6/site-packages/tensorboard/compat/tensorflow_stub/dtypes.py:543: FutureWarning: Passing (type, 1) or '1type' as a synonym of type is deprecated; in a future version of numpy, it will be understood as (type, (1,)) / '(1,)type'.\n",
      "  _np_qint16 = np.dtype([(\"qint16\", np.int16, 1)])\n",
      "/home/ughni/.Envs/venv_mujoco/lib/python3.6/site-packages/tensorboard/compat/tensorflow_stub/dtypes.py:544: FutureWarning: Passing (type, 1) or '1type' as a synonym of type is deprecated; in a future version of numpy, it will be understood as (type, (1,)) / '(1,)type'.\n",
      "  _np_quint16 = np.dtype([(\"quint16\", np.uint16, 1)])\n",
      "/home/ughni/.Envs/venv_mujoco/lib/python3.6/site-packages/tensorboard/compat/tensorflow_stub/dtypes.py:545: FutureWarning: Passing (type, 1) or '1type' as a synonym of type is deprecated; in a future version of numpy, it will be understood as (type, (1,)) / '(1,)type'.\n",
      "  _np_qint32 = np.dtype([(\"qint32\", np.int32, 1)])\n",
      "/home/ughni/.Envs/venv_mujoco/lib/python3.6/site-packages/tensorboard/compat/tensorflow_stub/dtypes.py:550: FutureWarning: Passing (type, 1) or '1type' as a synonym of type is deprecated; in a future version of numpy, it will be understood as (type, (1,)) / '(1,)type'.\n",
      "  np_resource = np.dtype([(\"resource\", np.ubyte, 1)])\n"
     ]
    },
    {
     "name": "stdout",
     "output_type": "stream",
     "text": [
      "Creating window glfw\n",
      "[[[133  60 121]\n",
      "  [133  60 121]\n",
      "  [ 57 141 213]\n",
      "  ...\n",
      "  [133  59 121]\n",
      "  [133  59 121]\n",
      "  [133  59 121]]\n",
      "\n",
      " [[135  60 119]\n",
      "  [ 86 122 190]\n",
      "  [ 43 169 247]\n",
      "  ...\n",
      "  [134  60 120]\n",
      "  [134  60 120]\n",
      "  [134  60 120]]\n",
      "\n",
      " [[103 101 165]\n",
      "  [ 42 167 245]\n",
      "  [ 52 179 255]\n",
      "  ...\n",
      "  [135  60 119]\n",
      "  [135  60 119]\n",
      "  [135  60 119]]\n",
      "\n",
      " ...\n",
      "\n",
      " [[142 143 148]\n",
      "  [142 144 148]\n",
      "  [142 144 149]\n",
      "  ...\n",
      "  [ 65  65  65]\n",
      "  [ 65  65  65]\n",
      "  [ 65  65  65]]\n",
      "\n",
      " [[142 144 149]\n",
      "  [142 144 149]\n",
      "  [142 144 149]\n",
      "  ...\n",
      "  [ 65  65  65]\n",
      "  [ 65  65  65]\n",
      "  [ 65  65  65]]\n",
      "\n",
      " [[142 144 149]\n",
      "  [143 144 149]\n",
      "  [143 144 149]\n",
      "  ...\n",
      "  [ 65  65  65]\n",
      "  [ 65  65  65]\n",
      "  [ 65  65  65]]]\n",
      "-0.1126993213588947\n"
     ]
    }
   ],
   "source": [
    "import gym\n",
    "import fetch\n",
    "import numpy as np\n",
    "from fetch import wrappers\n",
    "\n",
    "from stable_baselines.sac.policies import MlpPolicy\n",
    "from stable_baselines import SAC\n",
    "\n",
    "env = gym.make('FetchReachNewDense-v1')\n",
    "env = wrappers.TransformObservation(env)\n",
    "obs = env.reset()\n",
    "print(obs)\n",
    "action = env.action_space.sample()\n",
    "obs, reward, done,info = env.step(action)\n",
    "\n",
    "print(reward)"
   ]
  },
  {
   "cell_type": "code",
   "execution_count": null,
   "metadata": {},
   "outputs": [],
   "source": [
    "model = SAC(MlpPolicy, env, verbose=1)\n",
    "model.learn(total_timesteps=50000, log_interval=10)\n",
    "model.save(\"sac_pendulum\")\n",
    "\n",
    "del model # remove to demonstrate saving and loading\n",
    "\n",
    "model = SAC.load(\"sac_pendulum\")\n",
    "\n",
    "obs = env.reset()\n",
    "x = 0\n",
    "while True:\n",
    "    action, _states = model.predict(obs)\n",
    "    obs, rewards, dones, info = env.step(action)\n",
    "    env.render()"
   ]
  },
  {
   "cell_type": "code",
   "execution_count": null,
   "metadata": {},
   "outputs": [],
   "source": []
  }
 ],
 "metadata": {
  "kernelspec": {
   "display_name": "Python 3",
   "language": "python",
   "name": "python3"
  },
  "language_info": {
   "codemirror_mode": {
    "name": "ipython",
    "version": 3
   },
   "file_extension": ".py",
   "mimetype": "text/x-python",
   "name": "python",
   "nbconvert_exporter": "python",
   "pygments_lexer": "ipython3",
   "version": "3.6.9"
  }
 },
 "nbformat": 4,
 "nbformat_minor": 4
}
